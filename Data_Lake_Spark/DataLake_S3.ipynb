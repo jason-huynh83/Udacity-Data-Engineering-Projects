{
 "cells": [
  {
   "cell_type": "code",
   "execution_count": 76,
   "metadata": {
    "editable": true
   },
   "outputs": [
    {
     "data": {
      "application/vnd.jupyter.widget-view+json": {
       "model_id": "6d14f3e11ff040dd87ae0b75540137cb",
       "version_major": 2,
       "version_minor": 0
      },
      "text/plain": [
       "VBox()"
      ]
     },
     "metadata": {},
     "output_type": "display_data"
    },
    {
     "data": {
      "application/vnd.jupyter.widget-view+json": {
       "model_id": "",
       "version_major": 2,
       "version_minor": 0
      },
      "text/plain": [
       "FloatProgress(value=0.0, bar_style='info', description='Progress:', layout=Layout(height='25px', width='50%'),…"
      ]
     },
     "metadata": {},
     "output_type": "display_data"
    }
   ],
   "source": [
    "#using jupyter notebook in EMR cluster to test the results\n",
    "#importing all necessary libraries\n",
    "import configparser\n",
    "from datetime import datetime\n",
    "import os\n",
    "from pyspark.sql import SparkSession\n",
    "from pyspark.sql.functions import udf, col\n",
    "from pyspark.sql.functions import year, month, dayofmonth, hour, weekofyear, date_format\n",
    "from pyspark.sql.functions import monotonically_increasing_id"
   ]
  },
  {
   "cell_type": "code",
   "execution_count": 2,
   "metadata": {
    "editable": true
   },
   "outputs": [
    {
     "data": {
      "application/vnd.jupyter.widget-view+json": {
       "model_id": "872b979c9f264b0c8b45a649caecd4a3",
       "version_major": 2,
       "version_minor": 0
      },
      "text/plain": [
       "VBox()"
      ]
     },
     "metadata": {},
     "output_type": "display_data"
    },
    {
     "data": {
      "application/vnd.jupyter.widget-view+json": {
       "model_id": "",
       "version_major": 2,
       "version_minor": 0
      },
      "text/plain": [
       "FloatProgress(value=0.0, bar_style='info', description='Progress:', layout=Layout(height='25px', width='50%'),…"
      ]
     },
     "metadata": {},
     "output_type": "display_data"
    }
   ],
   "source": [
    "#configurations\n",
    "#cant connect for some reason\n",
    "config = configparser.ConfigParser()\n",
    "config.read('dl.cfg')\n",
    "\n",
    "os.environ['AWS_ACCESS_KEY_ID']=''\n",
    "os.environ['AWS_SECRET_ACCESS_KEY']=''"
   ]
  },
  {
   "cell_type": "code",
   "execution_count": 3,
   "metadata": {
    "editable": true
   },
   "outputs": [
    {
     "data": {
      "application/vnd.jupyter.widget-view+json": {
       "model_id": "5ac422c0f82a42079eaa052f94bbf1c4",
       "version_major": 2,
       "version_minor": 0
      },
      "text/plain": [
       "VBox()"
      ]
     },
     "metadata": {},
     "output_type": "display_data"
    },
    {
     "data": {
      "application/vnd.jupyter.widget-view+json": {
       "model_id": "",
       "version_major": 2,
       "version_minor": 0
      },
      "text/plain": [
       "FloatProgress(value=0.0, bar_style='info', description='Progress:', layout=Layout(height='25px', width='50%'),…"
      ]
     },
     "metadata": {},
     "output_type": "display_data"
    }
   ],
   "source": [
    "spark = SparkSession \\\n",
    "    .builder \\\n",
    "    .config(\"spark.jars.packages\", \"org.apache.hadoop:hadoop-aws:2.7.0\") \\\n",
    "    .getOrCreate()"
   ]
  },
  {
   "cell_type": "code",
   "execution_count": 56,
   "metadata": {
    "editable": true
   },
   "outputs": [
    {
     "data": {
      "application/vnd.jupyter.widget-view+json": {
       "model_id": "b174b8f56030424fb0e10e64c0457de4",
       "version_major": 2,
       "version_minor": 0
      },
      "text/plain": [
       "VBox()"
      ]
     },
     "metadata": {},
     "output_type": "display_data"
    },
    {
     "data": {
      "application/vnd.jupyter.widget-view+json": {
       "model_id": "",
       "version_major": 2,
       "version_minor": 0
      },
      "text/plain": [
       "FloatProgress(value=0.0, bar_style='info', description='Progress:', layout=Layout(height='25px', width='50%'),…"
      ]
     },
     "metadata": {},
     "output_type": "display_data"
    }
   ],
   "source": [
    "#reading song data file\n",
    "input_data = \"s3a://udacity-dend/\"\n",
    "song_data = 'song_data/*/*/*/*.json'\n",
    "\n",
    "df = spark.read.json(input_data+song_data)"
   ]
  },
  {
   "cell_type": "code",
   "execution_count": 45,
   "metadata": {
    "editable": true
   },
   "outputs": [
    {
     "data": {
      "application/vnd.jupyter.widget-view+json": {
       "model_id": "ef15d284581143529765cf5e6253c536",
       "version_major": 2,
       "version_minor": 0
      },
      "text/plain": [
       "VBox()"
      ]
     },
     "metadata": {},
     "output_type": "display_data"
    },
    {
     "data": {
      "application/vnd.jupyter.widget-view+json": {
       "model_id": "",
       "version_major": 2,
       "version_minor": 0
      },
      "text/plain": [
       "FloatProgress(value=0.0, bar_style='info', description='Progress:', layout=Layout(height='25px', width='50%'),…"
      ]
     },
     "metadata": {},
     "output_type": "display_data"
    },
    {
     "name": "stdout",
     "output_type": "stream",
     "text": [
      "+------------------+--------------------+------------------+----+----------+\n",
      "|           song_id|               title|         artist_id|year|  duration|\n",
      "+------------------+--------------------+------------------+----+----------+\n",
      "|SOVIYJY12AF72A4B00|The Dead Next Doo...|AR4T2IF1187B9ADBB7|1983| 233.22077|\n",
      "|SOVYXYL12AF72A3373|Rebel Yell (1999 ...|AR4T2IF1187B9ADBB7|1983| 287.92118|\n",
      "|SOEPTVC12A67ADD0DA|To Zucchabar [\"Gl...|ARQ846I1187B9A7083|   0| 196.04853|\n",
      "|SOLQYSZ12AB0181F97|    Mony Mony (Live)|AR4T2IF1187B9ADBB7|1987| 247.53587|\n",
      "|SOVPFJK12A6701CB16|Barcelona - (Frie...|AR3TZ691187FB3DBB1|2000| 273.44934|\n",
      "|SOETDBF12A81C20BC0|       Body Snatcher|AR4T2IF1187B9ADBB7|2005| 237.06077|\n",
      "|SOIEXLS12A6D4F792F|           Shangrila|AR4T2IF1187B9ADBB7|1993| 443.14077|\n",
      "|SOQEBML12A8C136AA4|Werther (1997 Dig...|AR5R7791187FB3A8C3|   0|  55.40526|\n",
      "|SOTCIHX12A8C13DDD2|Finally_ as that ...|ARYOIZG1187FB41E30|2006| 483.34322|\n",
      "|SODUMDU12AC468A22B|We're Skrewed (Ot...|ARHOSMU1242078130D|   0|  249.5473|\n",
      "|SOPSXLI12A6D4FA418|Practical Cats - ...|ARR79V31187FB5B96E|   0| 251.03628|\n",
      "|SOLLALT12A8C1399F3|Piano Concerto No...|ARWMEJW11F4C83C123|   0| 319.37261|\n",
      "|SOKUATC12AB01853F3|Turandot: Nessun ...|ARV481W1187FB38CD9|1997| 191.13751|\n",
      "|SOIGELY12A6D4F65C6|Aida (1986 Digita...|ARXLQYU11F4C83E050|   0| 345.25995|\n",
      "|SOBTCUI12A8AE48B70|Faust: Ballet Mus...|ARSUVLW12454A4C8B8|   0|  94.56281|\n",
      "|SOHPSTY12A6D4F719C|Ms. New Booty (Ed...|ARJYD111187FB3AC15|   0| 252.52526|\n",
      "|SONVWOX12A8C137FF5|Le Roi de Lahore_...|ARIDEBJ1187B9A3754|   0| 250.48771|\n",
      "|SOQYHYG12AB017CF0B|The Horrors Of Is...|ARNVCB81187B9ACBDF|2004| 279.95383|\n",
      "|SOMDBLQ12A6D4F8B72|Quartet for Piano...|AREVPHS1187FB3B6EB|   0| 496.53506|\n",
      "|SOAZUNV12A8C13923B|A Faust Symphony ...|ARSUVLW12454A4C8B8|   0|1237.86404|\n",
      "+------------------+--------------------+------------------+----+----------+\n",
      "only showing top 20 rows"
     ]
    }
   ],
   "source": [
    "#extract columns to create songs table\n",
    "df.createOrReplaceTempView('song_data_table')\n",
    "df.select(\"song_id\", \"title\", \"artist_id\", \"year\", \"duration\").show()"
   ]
  },
  {
   "cell_type": "code",
   "execution_count": 46,
   "metadata": {
    "editable": true
   },
   "outputs": [
    {
     "data": {
      "application/vnd.jupyter.widget-view+json": {
       "model_id": "3940f3af2d3741cda1d51b031af5cbb9",
       "version_major": 2,
       "version_minor": 0
      },
      "text/plain": [
       "VBox()"
      ]
     },
     "metadata": {},
     "output_type": "display_data"
    },
    {
     "data": {
      "application/vnd.jupyter.widget-view+json": {
       "model_id": "",
       "version_major": 2,
       "version_minor": 0
      },
      "text/plain": [
       "FloatProgress(value=0.0, bar_style='info', description='Progress:', layout=Layout(height='25px', width='50%'),…"
      ]
     },
     "metadata": {},
     "output_type": "display_data"
    },
    {
     "name": "stdout",
     "output_type": "stream",
     "text": [
      "root\n",
      " |-- artist_id: string (nullable = true)\n",
      " |-- artist_latitude: double (nullable = true)\n",
      " |-- artist_location: string (nullable = true)\n",
      " |-- artist_longitude: double (nullable = true)\n",
      " |-- artist_name: string (nullable = true)\n",
      " |-- duration: double (nullable = true)\n",
      " |-- num_songs: long (nullable = true)\n",
      " |-- song_id: string (nullable = true)\n",
      " |-- title: string (nullable = true)\n",
      " |-- year: long (nullable = true)"
     ]
    }
   ],
   "source": [
    "df.printSchema()"
   ]
  },
  {
   "cell_type": "code",
   "execution_count": 44,
   "metadata": {
    "editable": true
   },
   "outputs": [
    {
     "data": {
      "application/vnd.jupyter.widget-view+json": {
       "model_id": "9d857c3a19e346aaa3de829fb7f4887f",
       "version_major": 2,
       "version_minor": 0
      },
      "text/plain": [
       "VBox()"
      ]
     },
     "metadata": {},
     "output_type": "display_data"
    },
    {
     "data": {
      "application/vnd.jupyter.widget-view+json": {
       "model_id": "",
       "version_major": 2,
       "version_minor": 0
      },
      "text/plain": [
       "FloatProgress(value=0.0, bar_style='info', description='Progress:', layout=Layout(height='25px', width='50%'),…"
      ]
     },
     "metadata": {},
     "output_type": "display_data"
    },
    {
     "name": "stdout",
     "output_type": "stream",
     "text": [
      "+------------------+--------------------+--------------------+---------------+----------------+\n",
      "|         artist_id|         artist_name|     artist_location|artist_latitude|artist_longitude|\n",
      "+------------------+--------------------+--------------------+---------------+----------------+\n",
      "|AR4T2IF1187B9ADBB7|          Billy Idol|<a href=\"http://b...|       63.96027|        10.22442|\n",
      "|AR4T2IF1187B9ADBB7|          Billy Idol|<a href=\"http://b...|       63.96027|        10.22442|\n",
      "|ARQ846I1187B9A7083|Yvonne S. Moriart...|                    |           null|            null|\n",
      "|AR4T2IF1187B9ADBB7|          Billy Idol|<a href=\"http://b...|       63.96027|        10.22442|\n",
      "|AR3TZ691187FB3DBB1|Russell Watson / ...|                    |           null|            null|\n",
      "|AR4T2IF1187B9ADBB7|          Billy Idol|<a href=\"http://b...|       63.96027|        10.22442|\n",
      "|AR4T2IF1187B9ADBB7|          Billy Idol|<a href=\"http://b...|       63.96027|        10.22442|\n",
      "|AR5R7791187FB3A8C3|Alfredo Kraus/Tat...|                    |           null|            null|\n",
      "|ARYOIZG1187FB41E30|        Red Sparowes|     Los Angeles, CA|       34.05349|      -118.24532|\n",
      "|ARHOSMU1242078130D|         All Leather|                    |           null|            null|\n",
      "|ARR79V31187FB5B96E|Robert Donat/Phil...|                    |           null|            null|\n",
      "|ARWMEJW11F4C83C123|Dmitri Shostakovi...|St. Petersburg, R...|       59.93274|        30.30672|\n",
      "|ARV481W1187FB38CD9|Andrea Bocelli / ...|     Lajatico, Italy|           null|            null|\n",
      "|ARXLQYU11F4C83E050|Agnes Baltsa/Mire...|             Lefkada|       38.83179|        20.70796|\n",
      "|ARSUVLW12454A4C8B8|Royal Philharmoni...|           Tennessee|       35.83073|       -85.97874|\n",
      "|ARJYD111187FB3AC15|Bubba Sparxxx fea...|        LaGrange, GA|           null|            null|\n",
      "|ARIDEBJ1187B9A3754|Rolando Villazon/...|                    |           null|            null|\n",
      "|ARNVCB81187B9ACBDF|    The Flaming Lips|   Oklahoma City, OK|           null|            null|\n",
      "|AREVPHS1187FB3B6EB|Martha Argerich/R...|                    |           null|            null|\n",
      "|ARSUVLW12454A4C8B8|Royal Philharmoni...|           Tennessee|       35.83073|       -85.97874|\n",
      "+------------------+--------------------+--------------------+---------------+----------------+\n",
      "only showing top 20 rows"
     ]
    }
   ],
   "source": [
    "#extracting columns to create artists table\n",
    "df.createOrReplaceTempView(\"artist_table\")\n",
    "\n",
    "df.select(\"artist_id\",'artist_name','artist_location','artist_latitude','artist_longitude').show()"
   ]
  },
  {
   "cell_type": "code",
   "execution_count": 54,
   "metadata": {
    "editable": true
   },
   "outputs": [
    {
     "data": {
      "application/vnd.jupyter.widget-view+json": {
       "model_id": "35cd2077b61a47299511f2e880d4fd73",
       "version_major": 2,
       "version_minor": 0
      },
      "text/plain": [
       "VBox()"
      ]
     },
     "metadata": {},
     "output_type": "display_data"
    },
    {
     "data": {
      "application/vnd.jupyter.widget-view+json": {
       "model_id": "",
       "version_major": 2,
       "version_minor": 0
      },
      "text/plain": [
       "FloatProgress(value=0.0, bar_style='info', description='Progress:', layout=Layout(height='25px', width='50%'),…"
      ]
     },
     "metadata": {},
     "output_type": "display_data"
    }
   ],
   "source": [
    "#reading log_data\n",
    "input_data = 's3a://udacity-dend/'\n",
    "log_data = 'log_data/*/*/*.json'\n",
    "\n",
    "df1 = spark.read.json(input_data+log_data)"
   ]
  },
  {
   "cell_type": "code",
   "execution_count": 65,
   "metadata": {
    "editable": true
   },
   "outputs": [
    {
     "data": {
      "application/vnd.jupyter.widget-view+json": {
       "model_id": "6e9e38e5c6264f9ab98bb9ecb08e1607",
       "version_major": 2,
       "version_minor": 0
      },
      "text/plain": [
       "VBox()"
      ]
     },
     "metadata": {},
     "output_type": "display_data"
    },
    {
     "data": {
      "application/vnd.jupyter.widget-view+json": {
       "model_id": "",
       "version_major": 2,
       "version_minor": 0
      },
      "text/plain": [
       "FloatProgress(value=0.0, bar_style='info', description='Progress:', layout=Layout(height='25px', width='50%'),…"
      ]
     },
     "metadata": {},
     "output_type": "display_data"
    }
   ],
   "source": [
    "#filter by actions for song plays\n",
    "df1 = df1.filter(df1.page == 'NextSong')"
   ]
  },
  {
   "cell_type": "code",
   "execution_count": 66,
   "metadata": {
    "editable": true
   },
   "outputs": [
    {
     "data": {
      "application/vnd.jupyter.widget-view+json": {
       "model_id": "610d20eb7466426a9b13b7caf2ec9f40",
       "version_major": 2,
       "version_minor": 0
      },
      "text/plain": [
       "VBox()"
      ]
     },
     "metadata": {},
     "output_type": "display_data"
    },
    {
     "data": {
      "application/vnd.jupyter.widget-view+json": {
       "model_id": "",
       "version_major": 2,
       "version_minor": 0
      },
      "text/plain": [
       "FloatProgress(value=0.0, bar_style='info', description='Progress:', layout=Layout(height='25px', width='50%'),…"
      ]
     },
     "metadata": {},
     "output_type": "display_data"
    },
    {
     "name": "stdout",
     "output_type": "stream",
     "text": [
      "+------+---------+--------+------+-----+\n",
      "|userId|firstName|lastName|gender|level|\n",
      "+------+---------+--------+------+-----+\n",
      "|    26|     Ryan|   Smith|     M| free|\n",
      "|    26|     Ryan|   Smith|     M| free|\n",
      "|    26|     Ryan|   Smith|     M| free|\n",
      "|    61|   Samuel|Gonzalez|     M| free|\n",
      "|    80|    Tegan|  Levine|     F| paid|\n",
      "|    80|    Tegan|  Levine|     F| paid|\n",
      "|    80|    Tegan|  Levine|     F| paid|\n",
      "|    80|    Tegan|  Levine|     F| paid|\n",
      "|    80|    Tegan|  Levine|     F| paid|\n",
      "|    80|    Tegan|  Levine|     F| paid|\n",
      "|    80|    Tegan|  Levine|     F| paid|\n",
      "|    15|     Lily|    Koch|     F| paid|\n",
      "|    80|    Tegan|  Levine|     F| paid|\n",
      "|    15|     Lily|    Koch|     F| paid|\n",
      "|    15|     Lily|    Koch|     F| paid|\n",
      "|    15|     Lily|    Koch|     F| paid|\n",
      "|    15|     Lily|    Koch|     F| paid|\n",
      "|    26|     Ryan|   Smith|     M| free|\n",
      "|    26|     Ryan|   Smith|     M| free|\n",
      "|    49|    Chloe|  Cuevas|     F| paid|\n",
      "+------+---------+--------+------+-----+\n",
      "only showing top 20 rows"
     ]
    }
   ],
   "source": [
    "#extracting columns for users table\n",
    "df1.createOrReplaceTempView(\"users_table\")\n",
    "df1.select('userId','firstName','lastName','gender','level').show()"
   ]
  },
  {
   "cell_type": "code",
   "execution_count": 52,
   "metadata": {
    "editable": true
   },
   "outputs": [
    {
     "data": {
      "application/vnd.jupyter.widget-view+json": {
       "model_id": "60aa0396209c45f58ddb8df3436f9af9",
       "version_major": 2,
       "version_minor": 0
      },
      "text/plain": [
       "VBox()"
      ]
     },
     "metadata": {},
     "output_type": "display_data"
    },
    {
     "data": {
      "application/vnd.jupyter.widget-view+json": {
       "model_id": "",
       "version_major": 2,
       "version_minor": 0
      },
      "text/plain": [
       "FloatProgress(value=0.0, bar_style='info', description='Progress:', layout=Layout(height='25px', width='50%'),…"
      ]
     },
     "metadata": {},
     "output_type": "display_data"
    },
    {
     "name": "stdout",
     "output_type": "stream",
     "text": [
      "DataFrame[artist: string, auth: string, firstName: string, gender: string, itemInSession: bigint, lastName: string, length: double, level: string, location: string, method: string, page: string, registration: double, sessionId: bigint, song: string, status: bigint, ts: bigint, userAgent: string, userId: string]"
     ]
    }
   ],
   "source": [
    "df"
   ]
  },
  {
   "cell_type": "code",
   "execution_count": 11,
   "metadata": {
    "editable": true
   },
   "outputs": [
    {
     "data": {
      "application/vnd.jupyter.widget-view+json": {
       "model_id": "fcc84ea239574d63b12912b9426358e0",
       "version_major": 2,
       "version_minor": 0
      },
      "text/plain": [
       "VBox()"
      ]
     },
     "metadata": {},
     "output_type": "display_data"
    },
    {
     "data": {
      "application/vnd.jupyter.widget-view+json": {
       "model_id": "",
       "version_major": 2,
       "version_minor": 0
      },
      "text/plain": [
       "FloatProgress(value=0.0, bar_style='info', description='Progress:', layout=Layout(height='25px', width='50%'),…"
      ]
     },
     "metadata": {},
     "output_type": "display_data"
    },
    {
     "name": "stdout",
     "output_type": "stream",
     "text": [
      "+-------------+\n",
      "|           ts|\n",
      "+-------------+\n",
      "|1542241826796|\n",
      "|1542242481796|\n",
      "|1542242741796|\n",
      "|1542247071796|\n",
      "|1542252577796|\n",
      "|1542253449796|\n",
      "|1542253460796|\n",
      "|1542260074796|\n",
      "|1542260277796|\n",
      "|1542260935796|\n",
      "|1542261224796|\n",
      "|1542261356796|\n",
      "|1542261662796|\n",
      "|1542261713796|\n",
      "|1542262057796|\n",
      "|1542262233796|\n",
      "|1542262434796|\n",
      "|1542262456796|\n",
      "|1542262679796|\n",
      "|1542262728796|\n",
      "+-------------+\n",
      "only showing top 20 rows"
     ]
    }
   ],
   "source": [
    "df1.select('ts').show()"
   ]
  },
  {
   "cell_type": "code",
   "execution_count": 67,
   "metadata": {
    "editable": true
   },
   "outputs": [
    {
     "data": {
      "application/vnd.jupyter.widget-view+json": {
       "model_id": "9c8014617de743fe9f01e521600ceeef",
       "version_major": 2,
       "version_minor": 0
      },
      "text/plain": [
       "VBox()"
      ]
     },
     "metadata": {},
     "output_type": "display_data"
    },
    {
     "data": {
      "application/vnd.jupyter.widget-view+json": {
       "model_id": "",
       "version_major": 2,
       "version_minor": 0
      },
      "text/plain": [
       "FloatProgress(value=0.0, bar_style='info', description='Progress:', layout=Layout(height='25px', width='50%'),…"
      ]
     },
     "metadata": {},
     "output_type": "display_data"
    }
   ],
   "source": [
    "from pyspark.sql.types import TimestampType"
   ]
  },
  {
   "cell_type": "code",
   "execution_count": 68,
   "metadata": {
    "editable": true
   },
   "outputs": [
    {
     "data": {
      "application/vnd.jupyter.widget-view+json": {
       "model_id": "79628955f5af4a98ae5da75a889cb606",
       "version_major": 2,
       "version_minor": 0
      },
      "text/plain": [
       "VBox()"
      ]
     },
     "metadata": {},
     "output_type": "display_data"
    },
    {
     "data": {
      "application/vnd.jupyter.widget-view+json": {
       "model_id": "",
       "version_major": 2,
       "version_minor": 0
      },
      "text/plain": [
       "FloatProgress(value=0.0, bar_style='info', description='Progress:', layout=Layout(height='25px', width='50%'),…"
      ]
     },
     "metadata": {},
     "output_type": "display_data"
    },
    {
     "name": "stdout",
     "output_type": "stream",
     "text": [
      "+-------------------+\n",
      "|           datetime|\n",
      "+-------------------+\n",
      "|2018-11-15 00:30:26|\n",
      "|2018-11-15 00:41:21|\n",
      "|2018-11-15 00:45:41|\n",
      "|2018-11-15 03:44:09|\n",
      "|2018-11-15 05:48:55|\n",
      "|2018-11-15 05:53:44|\n",
      "|2018-11-15 05:55:56|\n",
      "|2018-11-15 06:01:02|\n",
      "|2018-11-15 06:07:37|\n",
      "|2018-11-15 06:10:33|\n",
      "|2018-11-15 06:13:54|\n",
      "|2018-11-15 06:14:16|\n",
      "|2018-11-15 06:17:59|\n",
      "|2018-11-15 06:18:48|\n",
      "|2018-11-15 06:21:33|\n",
      "|2018-11-15 06:25:58|\n",
      "|2018-11-15 06:29:38|\n",
      "|2018-11-15 07:08:36|\n",
      "|2018-11-15 07:12:09|\n",
      "|2018-11-15 07:28:47|\n",
      "+-------------------+\n",
      "only showing top 20 rows"
     ]
    }
   ],
   "source": [
    "#creating timestamp column from original ts column\n",
    "get_timestamp = udf(lambda x: datetime.fromtimestamp (x // 1000), TimestampType())\n",
    "df1 = df1.withColumn('datetime', get_timestamp(col('ts')))\n",
    "df1.select('datetime').show()"
   ]
  },
  {
   "cell_type": "code",
   "execution_count": 69,
   "metadata": {
    "editable": true
   },
   "outputs": [
    {
     "data": {
      "application/vnd.jupyter.widget-view+json": {
       "model_id": "d3dfa06ea4504d27902d41f396d76ce7",
       "version_major": 2,
       "version_minor": 0
      },
      "text/plain": [
       "VBox()"
      ]
     },
     "metadata": {},
     "output_type": "display_data"
    },
    {
     "data": {
      "application/vnd.jupyter.widget-view+json": {
       "model_id": "",
       "version_major": 2,
       "version_minor": 0
      },
      "text/plain": [
       "FloatProgress(value=0.0, bar_style='info', description='Progress:', layout=Layout(height='25px', width='50%'),…"
      ]
     },
     "metadata": {},
     "output_type": "display_data"
    },
    {
     "name": "stdout",
     "output_type": "stream",
     "text": [
      "+-------------------+----+---+----+-----+----+-------+\n",
      "|         start_time|hour|day|week|month|year|weekday|\n",
      "+-------------------+----+---+----+-----+----+-------+\n",
      "|2018-11-15 00:30:26|   0| 15|  46|   11|2018|      5|\n",
      "|2018-11-15 00:41:21|   0| 15|  46|   11|2018|      5|\n",
      "|2018-11-15 00:45:41|   0| 15|  46|   11|2018|      5|\n",
      "|2018-11-15 03:44:09|   3| 15|  46|   11|2018|      5|\n",
      "|2018-11-15 05:48:55|   5| 15|  46|   11|2018|      5|\n",
      "|2018-11-15 05:53:44|   5| 15|  46|   11|2018|      5|\n",
      "|2018-11-15 05:55:56|   5| 15|  46|   11|2018|      5|\n",
      "|2018-11-15 06:01:02|   6| 15|  46|   11|2018|      5|\n",
      "|2018-11-15 06:07:37|   6| 15|  46|   11|2018|      5|\n",
      "|2018-11-15 06:10:33|   6| 15|  46|   11|2018|      5|\n",
      "|2018-11-15 06:13:54|   6| 15|  46|   11|2018|      5|\n",
      "|2018-11-15 06:14:16|   6| 15|  46|   11|2018|      5|\n",
      "|2018-11-15 06:17:59|   6| 15|  46|   11|2018|      5|\n",
      "|2018-11-15 06:18:48|   6| 15|  46|   11|2018|      5|\n",
      "|2018-11-15 06:21:33|   6| 15|  46|   11|2018|      5|\n",
      "|2018-11-15 06:25:58|   6| 15|  46|   11|2018|      5|\n",
      "|2018-11-15 06:29:38|   6| 15|  46|   11|2018|      5|\n",
      "|2018-11-15 07:08:36|   7| 15|  46|   11|2018|      5|\n",
      "|2018-11-15 07:12:09|   7| 15|  46|   11|2018|      5|\n",
      "|2018-11-15 07:28:47|   7| 15|  46|   11|2018|      5|\n",
      "+-------------------+----+---+----+-----+----+-------+\n",
      "only showing top 20 rows"
     ]
    }
   ],
   "source": [
    "#extracting columns to create time table\n",
    "df1.selectExpr(\"datetime as start_time\", 'hour(datetime) as hour',\n",
    "                             'day(datetime) as day', 'weekofyear(datetime) as week',\n",
    "                             'month(datetime) as month', 'year(datetime) as year',\n",
    "                            'dayofweek(datetime) as weekday').show()"
   ]
  },
  {
   "cell_type": "code",
   "execution_count": 57,
   "metadata": {
    "editable": true
   },
   "outputs": [
    {
     "data": {
      "application/vnd.jupyter.widget-view+json": {
       "model_id": "c88ded16c72043a6ad66570315b3787d",
       "version_major": 2,
       "version_minor": 0
      },
      "text/plain": [
       "VBox()"
      ]
     },
     "metadata": {},
     "output_type": "display_data"
    },
    {
     "data": {
      "application/vnd.jupyter.widget-view+json": {
       "model_id": "",
       "version_major": 2,
       "version_minor": 0
      },
      "text/plain": [
       "FloatProgress(value=0.0, bar_style='info', description='Progress:', layout=Layout(height='25px', width='50%'),…"
      ]
     },
     "metadata": {},
     "output_type": "display_data"
    },
    {
     "name": "stdout",
     "output_type": "stream",
     "text": [
      "root\n",
      " |-- artist_id: string (nullable = true)\n",
      " |-- artist_latitude: double (nullable = true)\n",
      " |-- artist_location: string (nullable = true)\n",
      " |-- artist_longitude: double (nullable = true)\n",
      " |-- artist_name: string (nullable = true)\n",
      " |-- duration: double (nullable = true)\n",
      " |-- num_songs: long (nullable = true)\n",
      " |-- song_id: string (nullable = true)\n",
      " |-- title: string (nullable = true)\n",
      " |-- year: long (nullable = true)\n",
      "\n",
      "root\n",
      " |-- artist: string (nullable = true)\n",
      " |-- auth: string (nullable = true)\n",
      " |-- firstName: string (nullable = true)\n",
      " |-- gender: string (nullable = true)\n",
      " |-- itemInSession: long (nullable = true)\n",
      " |-- lastName: string (nullable = true)\n",
      " |-- length: double (nullable = true)\n",
      " |-- level: string (nullable = true)\n",
      " |-- location: string (nullable = true)\n",
      " |-- method: string (nullable = true)\n",
      " |-- page: string (nullable = true)\n",
      " |-- registration: double (nullable = true)\n",
      " |-- sessionId: long (nullable = true)\n",
      " |-- song: string (nullable = true)\n",
      " |-- status: long (nullable = true)\n",
      " |-- ts: long (nullable = true)\n",
      " |-- userAgent: string (nullable = true)\n",
      " |-- userId: string (nullable = true)"
     ]
    }
   ],
   "source": [
    "df.printSchema()\n",
    "df1.printSchema()"
   ]
  },
  {
   "cell_type": "code",
   "execution_count": null,
   "metadata": {
    "editable": true
   },
   "outputs": [],
   "source": [
    "#read in song data to use for songplays table\n",
    "#extract columns from joined song and log datasets to create songplays table\n",
    "song_df = df\n",
    "condition = [song_df.artist_name == df1.artist, song_df.title == df1.song, song_df.duration == df1.length]\n",
    "songplays_table = df1.join(song_df, condition, 'inner') \\\n",
    "                  .selectExpr ('datetime as start_time', 'userId as user_id','level as level','song_id as song_id',\n",
    "                               'artist_id as artist_id','sessionId as session_id','artist_location as location',\n",
    "                               'userAgent as user_agent')\n",
    "songplays_table = songplays_table.withColumn('songplay_id', monotonically_increasing_id())\n",
    "songplays_table.show()"
   ]
  },
  {
   "cell_type": "code",
   "execution_count": null,
   "metadata": {
    "editable": true
   },
   "outputs": [],
   "source": [
    "#writing to parquet files to S3 buckets\n",
    "df.write.parquet('s3a://aws-emr-resources-045504181145-us-west-2/songs_table.parquet', partitionBy = ('year','artist_id'), mode = 'overwrite')"
   ]
  }
 ],
 "metadata": {
  "kernelspec": {
   "display_name": "Python 3",
   "language": "python",
   "name": "python3"
  },
  "language_info": {
   "codemirror_mode": {
    "name": "ipython",
    "version": 3
   },
   "file_extension": ".py",
   "mimetype": "text/x-python",
   "name": "python",
   "nbconvert_exporter": "python",
   "pygments_lexer": "ipython3",
   "version": "3.6.3"
  }
 },
 "nbformat": 4,
 "nbformat_minor": 4
}
